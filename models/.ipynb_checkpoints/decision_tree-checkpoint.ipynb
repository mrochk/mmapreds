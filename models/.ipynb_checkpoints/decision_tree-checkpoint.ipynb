{
 "cells": [
  {
   "cell_type": "code",
   "execution_count": 20,
   "metadata": {
    "colab": {
     "base_uri": "https://localhost:8080/"
    },
    "id": "MR5Nj6fdJk32",
    "outputId": "69fecaaf-8a71-43fc-9c54-50a330276619"
   },
   "outputs": [],
   "source": [
    "import numpy as np\n",
    "import pandas as pd\n",
    "import matplotlib.pyplot as plt\n",
    "\n",
    "from sklearn.tree import DecisionTreeClassifier\n",
    "from sklearn.metrics import *\n",
    "\n",
    "# if dataset is in drive\n",
    "#from google.colab import drive\n",
    "#drive.mount(path := '/drive')\n",
    "#path += '/MyDrive/MMA/dataset.csv'\n",
    "# else\n",
    "path = '../data/dataset.csv'\n",
    "\n",
    "random_state = 42\n",
    "criterion = 'log_loss'"
   ]
  },
  {
   "cell_type": "code",
   "execution_count": 21,
   "metadata": {
    "colab": {
     "base_uri": "https://localhost:8080/",
     "height": 147
    },
    "id": "Xu0TTZpuKIdd",
    "outputId": "e5bbcc97-c6d5-46e2-a36b-aa827aff4917"
   },
   "outputs": [
    {
     "data": {
      "text/html": [
       "<div>\n",
       "<style scoped>\n",
       "    .dataframe tbody tr th:only-of-type {\n",
       "        vertical-align: middle;\n",
       "    }\n",
       "\n",
       "    .dataframe tbody tr th {\n",
       "        vertical-align: top;\n",
       "    }\n",
       "\n",
       "    .dataframe thead th {\n",
       "        text-align: right;\n",
       "    }\n",
       "</style>\n",
       "<table border=\"1\" class=\"dataframe\">\n",
       "  <thead>\n",
       "    <tr style=\"text-align: right;\">\n",
       "      <th></th>\n",
       "      <th>winner</th>\n",
       "      <th>weight_class</th>\n",
       "      <th>result</th>\n",
       "      <th>finish_round</th>\n",
       "      <th>knockdownsA</th>\n",
       "      <th>total_strikes_attA</th>\n",
       "      <th>total_strikes_succA</th>\n",
       "      <th>sig_strikes_attA</th>\n",
       "      <th>sig_strikes_succA</th>\n",
       "      <th>takedown_attA</th>\n",
       "      <th>...</th>\n",
       "      <th>sig_strikes_attB</th>\n",
       "      <th>sig_strikes_succB</th>\n",
       "      <th>takedown_attB</th>\n",
       "      <th>takedown_succB</th>\n",
       "      <th>submission_attB</th>\n",
       "      <th>reversalsB</th>\n",
       "      <th>ctrl_timeB</th>\n",
       "      <th>wins decB</th>\n",
       "      <th>wins subB</th>\n",
       "      <th>wins koB</th>\n",
       "    </tr>\n",
       "  </thead>\n",
       "  <tbody>\n",
       "    <tr>\n",
       "      <th>0</th>\n",
       "      <td>0</td>\n",
       "      <td>2</td>\n",
       "      <td>0</td>\n",
       "      <td>2</td>\n",
       "      <td>0.000556</td>\n",
       "      <td>0.239795</td>\n",
       "      <td>0.161637</td>\n",
       "      <td>0.134006</td>\n",
       "      <td>0.066257</td>\n",
       "      <td>0.014064</td>\n",
       "      <td>...</td>\n",
       "      <td>0.175345</td>\n",
       "      <td>0.082486</td>\n",
       "      <td>0.000988</td>\n",
       "      <td>0.000988</td>\n",
       "      <td>0.0</td>\n",
       "      <td>0.0</td>\n",
       "      <td>0.040564</td>\n",
       "      <td>1</td>\n",
       "      <td>0</td>\n",
       "      <td>1</td>\n",
       "    </tr>\n",
       "  </tbody>\n",
       "</table>\n",
       "<p>1 rows × 30 columns</p>\n",
       "</div>"
      ],
      "text/plain": [
       "   winner  weight_class  result  finish_round  knockdownsA  \\\n",
       "0       0             2       0             2     0.000556   \n",
       "\n",
       "   total_strikes_attA  total_strikes_succA  sig_strikes_attA  \\\n",
       "0            0.239795             0.161637          0.134006   \n",
       "\n",
       "   sig_strikes_succA  takedown_attA  ...  sig_strikes_attB  sig_strikes_succB  \\\n",
       "0           0.066257       0.014064  ...          0.175345           0.082486   \n",
       "\n",
       "   takedown_attB  takedown_succB  submission_attB  reversalsB  ctrl_timeB  \\\n",
       "0       0.000988        0.000988              0.0         0.0    0.040564   \n",
       "\n",
       "   wins decB  wins subB  wins koB  \n",
       "0          1          0         1  \n",
       "\n",
       "[1 rows x 30 columns]"
      ]
     },
     "execution_count": 21,
     "metadata": {},
     "output_type": "execute_result"
    }
   ],
   "source": [
    "df = pd.read_csv(path, low_memory=False).drop(['fight_id', 'f_1', 'f_2', 'finish_time'], axis=1)\n",
    "df[:1]"
   ]
  },
  {
   "cell_type": "code",
   "execution_count": 22,
   "metadata": {
    "colab": {
     "base_uri": "https://localhost:8080/"
    },
    "id": "cLn_iwiAM8Gb",
    "outputId": "bd8a6831-0973-4f97-9878-ee007dd8211b"
   },
   "outputs": [
    {
     "data": {
      "text/plain": [
       "((2869, 3), (2869, 27))"
      ]
     },
     "execution_count": 22,
     "metadata": {},
     "output_type": "execute_result"
    }
   ],
   "source": [
    "targets = df[ts := ['winner', 'result', 'finish_round']]\n",
    "features = df.drop(ts, axis=1)\n",
    "\n",
    "targets.shape, features.shape"
   ]
  },
  {
   "cell_type": "markdown",
   "metadata": {
    "id": "Yf3qqFO3M2Wh"
   },
   "source": [
    "Split data into test/train."
   ]
  },
  {
   "cell_type": "code",
   "execution_count": 23,
   "metadata": {
    "colab": {
     "base_uri": "https://localhost:8080/"
    },
    "id": "_sQ7IgFULPq1",
    "outputId": "de252ead-c573-42a9-a073-c7a6d8f9b8df"
   },
   "outputs": [
    {
     "data": {
      "text/plain": [
       "((2369, 27), (2369, 3), (500, 27), (500, 3))"
      ]
     },
     "execution_count": 23,
     "metadata": {},
     "output_type": "execute_result"
    }
   ],
   "source": [
    "Xtrain, Ytrain = features[500:], targets[500:]\n",
    "Xtest, Ytest   = features[:500], targets[:500]\n",
    "\n",
    "Xtrain.shape, Ytrain.shape, Xtest.shape, Ytest.shape"
   ]
  },
  {
   "cell_type": "markdown",
   "metadata": {
    "id": "3WKuRlXvOuVH"
   },
   "source": [
    "# Predicting the winner (A or B)"
   ]
  },
  {
   "cell_type": "code",
   "execution_count": 24,
   "metadata": {
    "id": "ILEKV_GZOokU"
   },
   "outputs": [],
   "source": [
    "ytrain = Ytrain['winner']\n",
    "ytest  = Ytest['winner']"
   ]
  },
  {
   "cell_type": "code",
   "execution_count": 25,
   "metadata": {
    "colab": {
     "base_uri": "https://localhost:8080/"
    },
    "id": "TJKf90BTO2sV",
    "outputId": "28c2934d-2b16-455c-9cf1-195c24a0bbef"
   },
   "outputs": [
    {
     "name": "stdout",
     "output_type": "stream",
     "text": [
      "100%\n",
      "49%\n"
     ]
    }
   ],
   "source": [
    "tree_winner = DecisionTreeClassifier(\n",
    "    criterion=criterion,\n",
    "    random_state=42,\n",
    ").fit(Xtrain, ytrain)\n",
    "\n",
    "predictions_train = tree_winner.predict(Xtrain)\n",
    "predictions_test  = tree_winner.predict(Xtest)\n",
    "\n",
    "print(f'{accuracy_score(ytrain, predictions_train) * 100:.0f}%')\n",
    "print(f'{accuracy_score(ytest, predictions_test) * 100:.0f}%')"
   ]
  },
  {
   "cell_type": "code",
   "execution_count": 26,
   "metadata": {
    "colab": {
     "base_uri": "https://localhost:8080/"
    },
    "id": "NgrEr2AuPlNt",
    "outputId": "7bac7850-2d0a-4e53-9c5c-64c94c84eff2"
   },
   "outputs": [
    {
     "name": "stdout",
     "output_type": "stream",
     "text": [
      "It looks like we are overfitting, let's look at the number of leaves: 464.\n"
     ]
    }
   ],
   "source": [
    "print(f'It looks like we are overfitting, let\\'s look at the number of leaves: {tree_winner.get_n_leaves()}.')"
   ]
  },
  {
   "cell_type": "code",
   "execution_count": 27,
   "metadata": {
    "id": "K5s_wv5BEm6x"
   },
   "outputs": [],
   "source": [
    "def find_ccp_alpha(tree, xs, ys, xt, yt):\n",
    "    alphas = np.linspace(0, 0.005, 200)\n",
    "    train, test = [], []\n",
    "    for alpha in alphas:\n",
    "        tree.set_params(ccp_alpha=alpha)\n",
    "        tree.fit(xs, ys)\n",
    "\n",
    "        train.append(accuracy_score(ys, tree.predict(xs)))\n",
    "        test.append(accuracy_score(yt, tree.predict(xt)))\n",
    "\n",
    "    plt.plot(alphas, train, color='grey')\n",
    "    plt.plot(alphas, test, color='black')\n",
    "    plt.ylabel('accuracy')\n",
    "    plt.xlabel('ccp-alpha value')\n",
    "    plt.legend(['Training Data', 'Testing Data'])\n",
    "\n",
    "max_depth = np.log2(len(Xtrain)).astype(int)\n",
    "min_samples_leaf = 25"
   ]
  },
  {
   "cell_type": "code",
   "execution_count": 28,
   "metadata": {
    "colab": {
     "base_uri": "https://localhost:8080/",
     "height": 449
    },
    "id": "Si7Lyf3zPvnL",
    "outputId": "a0a3fa45-28ea-4ecf-b774-ca23a9a408b8"
   },
   "outputs": [
    {
     "data": {
      "image/png": "[encoded data removed]",
      "text/plain": [
       "<Figure size 640x480 with 1 Axes>"
      ]
     },
     "metadata": {},
     "output_type": "display_data"
    }
   ],
   "source": [
    "tree_winner = DecisionTreeClassifier(\n",
    "    max_depth=max_depth,\n",
    "    min_samples_leaf=min_samples_leaf,\n",
    "    random_state=random_state,\n",
    ")\n",
    "\n",
    "find_ccp_alpha(tree_winner, Xtrain, ytrain, Xtest, ytest)"
   ]
  },
  {
   "cell_type": "code",
   "execution_count": 29,
   "metadata": {
    "colab": {
     "base_uri": "https://localhost:8080/"
    },
    "id": "maV8DvRGIdzh",
    "outputId": "85e5d065-0799-496b-e77c-8b0715dbffc0"
   },
   "outputs": [
    {
     "name": "stdout",
     "output_type": "stream",
     "text": [
      "59.27%\n",
      "52.00%\n"
     ]
    }
   ],
   "source": [
    "tree_winner = DecisionTreeClassifier(\n",
    "    random_state=random_state,\n",
    "    max_depth=max_depth,\n",
    "    min_samples_leaf=min_samples_leaf,\n",
    "    ccp_alpha=0.0017,\n",
    ").fit(Xtrain, ytrain)\n",
    "\n",
    "predictions_train = tree_winner.predict(Xtrain)\n",
    "predictions_test  = tree_winner.predict(Xtest)\n",
    "\n",
    "print(f'{accuracy_score(ytrain, predictions_train) * 100:.2f}%')\n",
    "print(f'{accuracy_score(ytest, predictions_test) * 100:.2f}%')"
   ]
  },
  {
   "cell_type": "markdown",
   "metadata": {
    "id": "uQbGQ5y6TOXr"
   },
   "source": [
    "# Predicting the result (KO, Sub, Dec)"
   ]
  },
  {
   "cell_type": "code",
   "execution_count": 30,
   "metadata": {
    "id": "lzYHJfaMTRe9"
   },
   "outputs": [],
   "source": [
    "ytrain = Ytrain['result']\n",
    "ytest  = Ytest['result']"
   ]
  },
  {
   "cell_type": "code",
   "execution_count": 31,
   "metadata": {
    "colab": {
     "base_uri": "https://localhost:8080/",
     "height": 449
    },
    "id": "qs4Z2kFVTaIH",
    "outputId": "f675f94d-0d5f-42de-8d8f-a522de5b02c1"
   },
   "outputs": [
    {
     "data": {
      "image/png": "[encoded data removed]",
      "text/plain": [
       "<Figure size 640x480 with 1 Axes>"
      ]
     },
     "metadata": {},
     "output_type": "display_data"
    }
   ],
   "source": [
    "tree_result = DecisionTreeClassifier(\n",
    "    max_depth=np.log2(len(Xtrain)).astype(int),\n",
    "    min_samples_leaf=25,\n",
    "    random_state=42,\n",
    ")\n",
    "\n",
    "find_ccp_alpha(tree_result, Xtrain, ytrain, Xtest, ytest)"
   ]
  },
  {
   "cell_type": "code",
   "execution_count": 32,
   "metadata": {
    "colab": {
     "base_uri": "https://localhost:8080/"
    },
    "id": "STPFkMgAJW7j",
    "outputId": "e444a4d3-ddfd-453e-9759-7ec5ac3e56de"
   },
   "outputs": [
    {
     "name": "stdout",
     "output_type": "stream",
     "text": [
      "52.22%\n",
      "44.60%\n"
     ]
    },
    {
     "data": {
      "text/plain": [
       "7"
      ]
     },
     "execution_count": 32,
     "metadata": {},
     "output_type": "execute_result"
    }
   ],
   "source": [
    "tree_result = DecisionTreeClassifier(\n",
    "    max_depth=max_depth,\n",
    "    min_samples_leaf=min_samples_leaf,\n",
    "    random_state=random_state,\n",
    "    ccp_alpha=0.002,\n",
    ").fit(Xtrain, ytrain)\n",
    "\n",
    "predictions_train = tree_result.predict(Xtrain)\n",
    "predictions_test  = tree_result.predict(Xtest)\n",
    "\n",
    "print(f'{accuracy_score(ytrain, predictions_train) * 100:.2f}%')\n",
    "print(f'{accuracy_score(ytest, predictions_test) * 100:.2f}%')\n",
    "\n",
    "tree_result.get_n_leaves()"
   ]
  },
  {
   "cell_type": "markdown",
   "metadata": {
    "id": "39ujlj_jWHVj"
   },
   "source": [
    "# Predicting the round (1, 2, 3)"
   ]
  },
  {
   "cell_type": "code",
   "execution_count": 33,
   "metadata": {
    "id": "3Ls5fJrFWJ9V"
   },
   "outputs": [],
   "source": [
    "ytrain = Ytrain['finish_round']\n",
    "ytest  = Ytest['finish_round']"
   ]
  },
  {
   "cell_type": "code",
   "execution_count": 34,
   "metadata": {
    "colab": {
     "base_uri": "https://localhost:8080/",
     "height": 449
    },
    "id": "QmyBWh-wWOGj",
    "outputId": "ec078b31-7190-47ba-c863-4470804c45be"
   },
   "outputs": [
    {
     "data": {
      "image/png": "[encoded data removed]",
      "text/plain": [
       "<Figure size 640x480 with 1 Axes>"
      ]
     },
     "metadata": {},
     "output_type": "display_data"
    }
   ],
   "source": [
    "tree_round = DecisionTreeClassifier(\n",
    "    random_state=random_state,\n",
    "    max_depth=max_depth,\n",
    "    min_samples_leaf=min_samples_leaf,\n",
    ")\n",
    "\n",
    "find_ccp_alpha(tree_round, Xtrain, ytrain, Xtest, ytest)"
   ]
  },
  {
   "cell_type": "code",
   "execution_count": 35,
   "metadata": {
    "colab": {
     "base_uri": "https://localhost:8080/"
    },
    "id": "vjCcmhTSK18H",
    "outputId": "24c24e21-e20b-401e-fd34-190b96ddd633"
   },
   "outputs": [
    {
     "name": "stdout",
     "output_type": "stream",
     "text": [
      "58.29%\n",
      "52.00%\n"
     ]
    },
    {
     "data": {
      "text/plain": [
       "5"
      ]
     },
     "execution_count": 35,
     "metadata": {},
     "output_type": "execute_result"
    }
   ],
   "source": [
    "tree_round = DecisionTreeClassifier(\n",
    "    max_depth=max_depth,\n",
    "    min_samples_leaf=min_samples_leaf,\n",
    "    random_state=random_state,\n",
    "    ccp_alpha=0.0025,\n",
    ").fit(Xtrain, ytrain)\n",
    "\n",
    "predictions_train = tree_round.predict(Xtrain)\n",
    "predictions_test  = tree_round.predict(Xtest)\n",
    "\n",
    "print(f'{accuracy_score(ytrain, predictions_train) * 100:.2f}%')\n",
    "print(f'{accuracy_score(ytest, predictions_test) * 100:.2f}%')\n",
    "\n",
    "tree_round.get_n_leaves()"
   ]
  },
  {
   "cell_type": "markdown",
   "metadata": {
    "id": "agg0ppOzoCHQ"
   },
   "source": [
    "# Eval"
   ]
  },
  {
   "cell_type": "code",
   "execution_count": 36,
   "metadata": {
    "id": "GJlCLW5eoKFg"
   },
   "outputs": [],
   "source": [
    "def brier_score(targets, probabilities):\n",
    "    Sum = 0.0\n",
    "    for (probas, y) in zip(probabilities, targets):\n",
    "        Sum += sum([(p - (1 if i == y else 0))**2 for i, p in enumerate(probas)])\n",
    "    return Sum / len(targets)"
   ]
  },
  {
   "cell_type": "code",
   "execution_count": 19,
   "metadata": {
    "colab": {
     "base_uri": "https://localhost:8080/"
    },
    "id": "ML1iRjyToC4m",
    "outputId": "ab9d7aff-0c69-4165-9980-bad11c9e969a"
   },
   "outputs": [
    {
     "name": "stdout",
     "output_type": "stream",
     "text": [
      "\n",
      "Accuracies:\n",
      "52.0\n",
      "44.6\n",
      "52.0\n",
      "\n",
      "F1:\n",
      "0.589041095890411\n",
      "0.3753718450934695\n",
      "0.3970864661654136\n",
      "\n",
      "Log-Losses:\n",
      "0.719148795296745\n",
      "1.0627012806233929\n",
      "1.0321620533810891\n",
      "\n",
      "Brier-Scores:\n",
      "0.5200957774408774\n",
      "0.6425432425883687\n",
      "0.6175381122170858\n"
     ]
    }
   ],
   "source": [
    "probas_winner = tree_winner.predict_proba(Xtest)\n",
    "preds_winner = tree_winner.predict(Xtest)\n",
    "\n",
    "probas_result = tree_result.predict_proba(Xtest)\n",
    "preds_result = tree_result.predict(Xtest)\n",
    "\n",
    "probas_round  = tree_round.predict_proba(Xtest)\n",
    "preds_round = tree_round.predict(Xtest)\n",
    "\n",
    "print('\\nAccuracies:')\n",
    "print(accuracy_score(Ytest['winner'], preds_winner)*100)\n",
    "print(accuracy_score(Ytest['result'], preds_result)*100)\n",
    "print(accuracy_score(Ytest['finish_round'], preds_round)*100)\n",
    "\n",
    "print('\\nF1:')\n",
    "print(f1_score(Ytest['winner'], preds_winner))\n",
    "print(f1_score(Ytest['result'], preds_result, average='weighted'))\n",
    "print(f1_score(Ytest['finish_round'], preds_round, average='weighted'))\n",
    "\n",
    "print('\\nLog-Losses:')\n",
    "\n",
    "print(log_loss(Ytest['winner'], probas_winner))\n",
    "print(log_loss(Ytest['result'], probas_result))\n",
    "print(log_loss(Ytest['finish_round'], probas_round))\n",
    "\n",
    "print('\\nBrier-Scores:')\n",
    "\n",
    "print(brier_score(Ytest['winner'], probas_winner))\n",
    "print(brier_score(Ytest['result'], probas_result))\n",
    "print(brier_score(Ytest['finish_round'], probas_round))"
   ]
  }
 ],
 "metadata": {
  "colab": {
   "provenance": []
  },
  "kernelspec": {
   "display_name": "Python 3 (ipykernel)",
   "language": "python",
   "name": "python3"
  },
  "language_info": {
   "codemirror_mode": {
    "name": "ipython",
    "version": 3
   },
   "file_extension": ".py",
   "mimetype": "text/x-python",
   "name": "python",
   "nbconvert_exporter": "python",
   "pygments_lexer": "ipython3",
   "version": "3.10.12"
  }
 },
 "nbformat": 4,
 "nbformat_minor": 4
}
