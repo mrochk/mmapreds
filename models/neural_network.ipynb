{
 "cells": [
  {
   "cell_type": "code",
   "execution_count": 1,
   "metadata": {
    "colab": {
     "base_uri": "https://localhost:8080/"
    },
    "id": "CWIsiHmfact8",
    "outputId": "e00132c2-c2de-4d35-9c9e-e7fc1e1eea4a"
   },
   "outputs": [],
   "source": [
    "import numpy as np\n",
    "import pandas as pd\n",
    "import matplotlib.pyplot as plt\n",
    "\n",
    "import torch\n",
    "import torch.nn as nn\n",
    "import torch.optim as optim\n",
    "from torch.utils.data import Dataset, DataLoader\n",
    "\n",
    "from sklearn.metrics import *\n",
    "\n",
    "# if dataset is in drive\n",
    "#from google.colab import drive\n",
    "#drive.mount(path := '/drive')\n",
    "#path += '/MyDrive/MMA/dataset.csv'\n",
    "# else\n",
    "path = '../data/dataset.csv'\n",
    "\n",
    "random_state = 42"
   ]
  },
  {
   "cell_type": "code",
   "execution_count": 2,
   "metadata": {
    "colab": {
     "base_uri": "https://localhost:8080/",
     "height": 147
    },
    "id": "dMKerrzvapVF",
    "outputId": "9db754f5-c5a5-4700-dfdc-5129663b1b25"
   },
   "outputs": [
    {
     "data": {
      "text/html": [
       "<div>\n",
       "<style scoped>\n",
       "    .dataframe tbody tr th:only-of-type {\n",
       "        vertical-align: middle;\n",
       "    }\n",
       "\n",
       "    .dataframe tbody tr th {\n",
       "        vertical-align: top;\n",
       "    }\n",
       "\n",
       "    .dataframe thead th {\n",
       "        text-align: right;\n",
       "    }\n",
       "</style>\n",
       "<table border=\"1\" class=\"dataframe\">\n",
       "  <thead>\n",
       "    <tr style=\"text-align: right;\">\n",
       "      <th></th>\n",
       "      <th>winner</th>\n",
       "      <th>weight_class</th>\n",
       "      <th>result</th>\n",
       "      <th>finish_round</th>\n",
       "      <th>knockdownsA</th>\n",
       "      <th>total_strikes_attA</th>\n",
       "      <th>total_strikes_succA</th>\n",
       "      <th>sig_strikes_attA</th>\n",
       "      <th>sig_strikes_succA</th>\n",
       "      <th>takedown_attA</th>\n",
       "      <th>...</th>\n",
       "      <th>sig_strikes_attB</th>\n",
       "      <th>sig_strikes_succB</th>\n",
       "      <th>takedown_attB</th>\n",
       "      <th>takedown_succB</th>\n",
       "      <th>submission_attB</th>\n",
       "      <th>reversalsB</th>\n",
       "      <th>ctrl_timeB</th>\n",
       "      <th>wins decB</th>\n",
       "      <th>wins subB</th>\n",
       "      <th>wins koB</th>\n",
       "    </tr>\n",
       "  </thead>\n",
       "  <tbody>\n",
       "    <tr>\n",
       "      <th>0</th>\n",
       "      <td>0</td>\n",
       "      <td>2</td>\n",
       "      <td>0</td>\n",
       "      <td>2</td>\n",
       "      <td>0.000556</td>\n",
       "      <td>0.239795</td>\n",
       "      <td>0.161637</td>\n",
       "      <td>0.134006</td>\n",
       "      <td>0.066257</td>\n",
       "      <td>0.014064</td>\n",
       "      <td>...</td>\n",
       "      <td>0.175345</td>\n",
       "      <td>0.082486</td>\n",
       "      <td>0.000988</td>\n",
       "      <td>0.000988</td>\n",
       "      <td>0.0</td>\n",
       "      <td>0.0</td>\n",
       "      <td>0.040564</td>\n",
       "      <td>1</td>\n",
       "      <td>0</td>\n",
       "      <td>1</td>\n",
       "    </tr>\n",
       "  </tbody>\n",
       "</table>\n",
       "<p>1 rows × 30 columns</p>\n",
       "</div>"
      ],
      "text/plain": [
       "   winner  weight_class  result  finish_round  knockdownsA  \\\n",
       "0       0             2       0             2     0.000556   \n",
       "\n",
       "   total_strikes_attA  total_strikes_succA  sig_strikes_attA  \\\n",
       "0            0.239795             0.161637          0.134006   \n",
       "\n",
       "   sig_strikes_succA  takedown_attA  ...  sig_strikes_attB  sig_strikes_succB  \\\n",
       "0           0.066257       0.014064  ...          0.175345           0.082486   \n",
       "\n",
       "   takedown_attB  takedown_succB  submission_attB  reversalsB  ctrl_timeB  \\\n",
       "0       0.000988        0.000988              0.0         0.0    0.040564   \n",
       "\n",
       "   wins decB  wins subB  wins koB  \n",
       "0          1          0         1  \n",
       "\n",
       "[1 rows x 30 columns]"
      ]
     },
     "execution_count": 2,
     "metadata": {},
     "output_type": "execute_result"
    }
   ],
   "source": [
    "df = pd.read_csv(path, low_memory=False).drop(['fight_id', 'f_1', 'f_2', 'finish_time'], axis=1)\n",
    "df[:1]"
   ]
  },
  {
   "cell_type": "code",
   "execution_count": 3,
   "metadata": {
    "colab": {
     "base_uri": "https://localhost:8080/"
    },
    "id": "Ik-gfjfXa1gn",
    "outputId": "2f0e870c-0fcb-4ed7-db7b-0a7907fdbc88"
   },
   "outputs": [
    {
     "data": {
      "text/plain": [
       "((2869, 3), (2869, 27))"
      ]
     },
     "execution_count": 3,
     "metadata": {},
     "output_type": "execute_result"
    }
   ],
   "source": [
    "targets  = df[ts := ['winner', 'result', 'finish_round']]\n",
    "features = df.drop(ts, axis=1)\n",
    "targets.shape, features.shape"
   ]
  },
  {
   "cell_type": "code",
   "execution_count": 4,
   "metadata": {
    "colab": {
     "base_uri": "https://localhost:8080/",
     "height": 320
    },
    "id": "n351vBhz-_zT",
    "outputId": "efbc3a9e-a5cc-485e-9a1a-2a9813931708"
   },
   "outputs": [
    {
     "data": {
      "text/html": [
       "<div>\n",
       "<style scoped>\n",
       "    .dataframe tbody tr th:only-of-type {\n",
       "        vertical-align: middle;\n",
       "    }\n",
       "\n",
       "    .dataframe tbody tr th {\n",
       "        vertical-align: top;\n",
       "    }\n",
       "\n",
       "    .dataframe thead th {\n",
       "        text-align: right;\n",
       "    }\n",
       "</style>\n",
       "<table border=\"1\" class=\"dataframe\">\n",
       "  <thead>\n",
       "    <tr style=\"text-align: right;\">\n",
       "      <th></th>\n",
       "      <th>knockdownsA</th>\n",
       "      <th>total_strikes_attA</th>\n",
       "      <th>total_strikes_succA</th>\n",
       "      <th>sig_strikes_attA</th>\n",
       "      <th>sig_strikes_succA</th>\n",
       "      <th>takedown_attA</th>\n",
       "      <th>takedown_succA</th>\n",
       "      <th>submission_attA</th>\n",
       "      <th>reversalsA</th>\n",
       "      <th>ctrl_timeA</th>\n",
       "      <th>knockdownsB</th>\n",
       "      <th>total_strikes_attB</th>\n",
       "      <th>total_strikes_succB</th>\n",
       "      <th>sig_strikes_attB</th>\n",
       "      <th>sig_strikes_succB</th>\n",
       "      <th>takedown_attB</th>\n",
       "      <th>takedown_succB</th>\n",
       "      <th>submission_attB</th>\n",
       "      <th>reversalsB</th>\n",
       "      <th>ctrl_timeB</th>\n",
       "    </tr>\n",
       "  </thead>\n",
       "  <tbody>\n",
       "    <tr>\n",
       "      <th>count</th>\n",
       "      <td>2.869000e+03</td>\n",
       "      <td>2.869000e+03</td>\n",
       "      <td>2.869000e+03</td>\n",
       "      <td>2.869000e+03</td>\n",
       "      <td>2.869000e+03</td>\n",
       "      <td>2.869000e+03</td>\n",
       "      <td>2.869000e+03</td>\n",
       "      <td>2.869000e+03</td>\n",
       "      <td>2.869000e+03</td>\n",
       "      <td>2.869000e+03</td>\n",
       "      <td>2.869000e+03</td>\n",
       "      <td>2.869000e+03</td>\n",
       "      <td>2.869000e+03</td>\n",
       "      <td>2.869000e+03</td>\n",
       "      <td>2.869000e+03</td>\n",
       "      <td>2.869000e+03</td>\n",
       "      <td>2.869000e+03</td>\n",
       "      <td>2.869000e+03</td>\n",
       "      <td>2.869000e+03</td>\n",
       "      <td>2.869000e+03</td>\n",
       "    </tr>\n",
       "    <tr>\n",
       "      <th>mean</th>\n",
       "      <td>3.714932e-18</td>\n",
       "      <td>2.872881e-16</td>\n",
       "      <td>2.228959e-16</td>\n",
       "      <td>1.485973e-16</td>\n",
       "      <td>-3.962595e-17</td>\n",
       "      <td>1.981297e-17</td>\n",
       "      <td>6.439216e-17</td>\n",
       "      <td>-9.906486e-18</td>\n",
       "      <td>-9.906486e-18</td>\n",
       "      <td>3.962595e-17</td>\n",
       "      <td>-3.219608e-17</td>\n",
       "      <td>-2.724284e-16</td>\n",
       "      <td>3.962595e-17</td>\n",
       "      <td>1.485973e-16</td>\n",
       "      <td>9.906486e-18</td>\n",
       "      <td>-3.591101e-17</td>\n",
       "      <td>-7.677527e-17</td>\n",
       "      <td>-2.971946e-17</td>\n",
       "      <td>-9.906486e-18</td>\n",
       "      <td>-1.040181e-16</td>\n",
       "    </tr>\n",
       "    <tr>\n",
       "      <th>std</th>\n",
       "      <td>1.000174e+00</td>\n",
       "      <td>1.000174e+00</td>\n",
       "      <td>1.000174e+00</td>\n",
       "      <td>1.000174e+00</td>\n",
       "      <td>1.000174e+00</td>\n",
       "      <td>1.000174e+00</td>\n",
       "      <td>1.000174e+00</td>\n",
       "      <td>1.000174e+00</td>\n",
       "      <td>1.000174e+00</td>\n",
       "      <td>1.000174e+00</td>\n",
       "      <td>1.000174e+00</td>\n",
       "      <td>1.000174e+00</td>\n",
       "      <td>1.000174e+00</td>\n",
       "      <td>1.000174e+00</td>\n",
       "      <td>1.000174e+00</td>\n",
       "      <td>1.000174e+00</td>\n",
       "      <td>1.000174e+00</td>\n",
       "      <td>1.000174e+00</td>\n",
       "      <td>1.000174e+00</td>\n",
       "      <td>1.000174e+00</td>\n",
       "    </tr>\n",
       "    <tr>\n",
       "      <th>min</th>\n",
       "      <td>-3.574645e-01</td>\n",
       "      <td>-1.348524e+00</td>\n",
       "      <td>-1.316888e+00</td>\n",
       "      <td>-1.338344e+00</td>\n",
       "      <td>-1.224460e+00</td>\n",
       "      <td>-7.727224e-01</td>\n",
       "      <td>-5.912066e-01</td>\n",
       "      <td>-4.794435e-01</td>\n",
       "      <td>-3.275308e-01</td>\n",
       "      <td>-7.939814e-01</td>\n",
       "      <td>-3.795282e-01</td>\n",
       "      <td>-1.008667e+00</td>\n",
       "      <td>-1.012732e+00</td>\n",
       "      <td>-1.019516e+00</td>\n",
       "      <td>-9.693069e-01</td>\n",
       "      <td>-7.158744e-01</td>\n",
       "      <td>-6.284348e-01</td>\n",
       "      <td>-4.796078e-01</td>\n",
       "      <td>-3.168375e-01</td>\n",
       "      <td>-8.310995e-01</td>\n",
       "    </tr>\n",
       "    <tr>\n",
       "      <th>25%</th>\n",
       "      <td>-3.574645e-01</td>\n",
       "      <td>-5.613921e-01</td>\n",
       "      <td>-5.528559e-01</td>\n",
       "      <td>-5.891232e-01</td>\n",
       "      <td>-5.787251e-01</td>\n",
       "      <td>-6.281010e-01</td>\n",
       "      <td>-5.912066e-01</td>\n",
       "      <td>-4.794435e-01</td>\n",
       "      <td>-3.275308e-01</td>\n",
       "      <td>-5.854658e-01</td>\n",
       "      <td>-3.795282e-01</td>\n",
       "      <td>-4.428327e-01</td>\n",
       "      <td>-4.378260e-01</td>\n",
       "      <td>-4.702086e-01</td>\n",
       "      <td>-4.691293e-01</td>\n",
       "      <td>-5.808265e-01</td>\n",
       "      <td>-6.284348e-01</td>\n",
       "      <td>-4.796078e-01</td>\n",
       "      <td>-3.168375e-01</td>\n",
       "      <td>-5.913396e-01</td>\n",
       "    </tr>\n",
       "    <tr>\n",
       "      <th>50%</th>\n",
       "      <td>-3.574645e-01</td>\n",
       "      <td>-2.232493e-01</td>\n",
       "      <td>-2.559682e-01</td>\n",
       "      <td>-2.242075e-01</td>\n",
       "      <td>-2.643603e-01</td>\n",
       "      <td>-2.665475e-01</td>\n",
       "      <td>-3.313792e-01</td>\n",
       "      <td>-4.794435e-01</td>\n",
       "      <td>-3.275308e-01</td>\n",
       "      <td>-2.463646e-01</td>\n",
       "      <td>-3.795282e-01</td>\n",
       "      <td>-2.012614e-01</td>\n",
       "      <td>-2.081751e-01</td>\n",
       "      <td>-2.099676e-01</td>\n",
       "      <td>-2.344781e-01</td>\n",
       "      <td>-2.432068e-01</td>\n",
       "      <td>-2.583698e-01</td>\n",
       "      <td>-4.796078e-01</td>\n",
       "      <td>-3.168375e-01</td>\n",
       "      <td>-2.271943e-01</td>\n",
       "    </tr>\n",
       "    <tr>\n",
       "      <th>75%</th>\n",
       "      <td>-6.870382e-02</td>\n",
       "      <td>2.139614e-01</td>\n",
       "      <td>2.055506e-01</td>\n",
       "      <td>2.706550e-01</td>\n",
       "      <td>2.019338e-01</td>\n",
       "      <td>2.855577e-01</td>\n",
       "      <td>1.882756e-01</td>\n",
       "      <td>9.430688e-02</td>\n",
       "      <td>-3.275308e-01</td>\n",
       "      <td>2.779433e-01</td>\n",
       "      <td>-4.280641e-02</td>\n",
       "      <td>1.369477e-01</td>\n",
       "      <td>1.405355e-01</td>\n",
       "      <td>1.850480e-01</td>\n",
       "      <td>1.474406e-01</td>\n",
       "      <td>2.515360e-01</td>\n",
       "      <td>2.153134e-01</td>\n",
       "      <td>1.079970e-01</td>\n",
       "      <td>-3.168375e-01</td>\n",
       "      <td>2.974650e-01</td>\n",
       "    </tr>\n",
       "    <tr>\n",
       "      <th>max</th>\n",
       "      <td>1.446559e+01</td>\n",
       "      <td>9.440787e+00</td>\n",
       "      <td>9.536884e+00</td>\n",
       "      <td>9.756162e+00</td>\n",
       "      <td>8.806134e+00</td>\n",
       "      <td>1.614798e+01</td>\n",
       "      <td>2.093735e+01</td>\n",
       "      <td>1.046963e+01</td>\n",
       "      <td>2.160956e+01</td>\n",
       "      <td>2.232228e+01</td>\n",
       "      <td>1.699532e+01</td>\n",
       "      <td>2.252877e+01</td>\n",
       "      <td>2.316793e+01</td>\n",
       "      <td>2.067658e+01</td>\n",
       "      <td>2.097612e+01</td>\n",
       "      <td>1.685000e+01</td>\n",
       "      <td>2.197196e+01</td>\n",
       "      <td>1.053798e+01</td>\n",
       "      <td>2.124448e+01</td>\n",
       "      <td>1.530904e+01</td>\n",
       "    </tr>\n",
       "  </tbody>\n",
       "</table>\n",
       "</div>"
      ],
      "text/plain": [
       "        knockdownsA  total_strikes_attA  total_strikes_succA  \\\n",
       "count  2.869000e+03        2.869000e+03         2.869000e+03   \n",
       "mean   3.714932e-18        2.872881e-16         2.228959e-16   \n",
       "std    1.000174e+00        1.000174e+00         1.000174e+00   \n",
       "min   -3.574645e-01       -1.348524e+00        -1.316888e+00   \n",
       "25%   -3.574645e-01       -5.613921e-01        -5.528559e-01   \n",
       "50%   -3.574645e-01       -2.232493e-01        -2.559682e-01   \n",
       "75%   -6.870382e-02        2.139614e-01         2.055506e-01   \n",
       "max    1.446559e+01        9.440787e+00         9.536884e+00   \n",
       "\n",
       "       sig_strikes_attA  sig_strikes_succA  takedown_attA  takedown_succA  \\\n",
       "count      2.869000e+03       2.869000e+03   2.869000e+03    2.869000e+03   \n",
       "mean       1.485973e-16      -3.962595e-17   1.981297e-17    6.439216e-17   \n",
       "std        1.000174e+00       1.000174e+00   1.000174e+00    1.000174e+00   \n",
       "min       -1.338344e+00      -1.224460e+00  -7.727224e-01   -5.912066e-01   \n",
       "25%       -5.891232e-01      -5.787251e-01  -6.281010e-01   -5.912066e-01   \n",
       "50%       -2.242075e-01      -2.643603e-01  -2.665475e-01   -3.313792e-01   \n",
       "75%        2.706550e-01       2.019338e-01   2.855577e-01    1.882756e-01   \n",
       "max        9.756162e+00       8.806134e+00   1.614798e+01    2.093735e+01   \n",
       "\n",
       "       submission_attA    reversalsA    ctrl_timeA   knockdownsB  \\\n",
       "count     2.869000e+03  2.869000e+03  2.869000e+03  2.869000e+03   \n",
       "mean     -9.906486e-18 -9.906486e-18  3.962595e-17 -3.219608e-17   \n",
       "std       1.000174e+00  1.000174e+00  1.000174e+00  1.000174e+00   \n",
       "min      -4.794435e-01 -3.275308e-01 -7.939814e-01 -3.795282e-01   \n",
       "25%      -4.794435e-01 -3.275308e-01 -5.854658e-01 -3.795282e-01   \n",
       "50%      -4.794435e-01 -3.275308e-01 -2.463646e-01 -3.795282e-01   \n",
       "75%       9.430688e-02 -3.275308e-01  2.779433e-01 -4.280641e-02   \n",
       "max       1.046963e+01  2.160956e+01  2.232228e+01  1.699532e+01   \n",
       "\n",
       "       total_strikes_attB  total_strikes_succB  sig_strikes_attB  \\\n",
       "count        2.869000e+03         2.869000e+03      2.869000e+03   \n",
       "mean        -2.724284e-16         3.962595e-17      1.485973e-16   \n",
       "std          1.000174e+00         1.000174e+00      1.000174e+00   \n",
       "min         -1.008667e+00        -1.012732e+00     -1.019516e+00   \n",
       "25%         -4.428327e-01        -4.378260e-01     -4.702086e-01   \n",
       "50%         -2.012614e-01        -2.081751e-01     -2.099676e-01   \n",
       "75%          1.369477e-01         1.405355e-01      1.850480e-01   \n",
       "max          2.252877e+01         2.316793e+01      2.067658e+01   \n",
       "\n",
       "       sig_strikes_succB  takedown_attB  takedown_succB  submission_attB  \\\n",
       "count       2.869000e+03   2.869000e+03    2.869000e+03     2.869000e+03   \n",
       "mean        9.906486e-18  -3.591101e-17   -7.677527e-17    -2.971946e-17   \n",
       "std         1.000174e+00   1.000174e+00    1.000174e+00     1.000174e+00   \n",
       "min        -9.693069e-01  -7.158744e-01   -6.284348e-01    -4.796078e-01   \n",
       "25%        -4.691293e-01  -5.808265e-01   -6.284348e-01    -4.796078e-01   \n",
       "50%        -2.344781e-01  -2.432068e-01   -2.583698e-01    -4.796078e-01   \n",
       "75%         1.474406e-01   2.515360e-01    2.153134e-01     1.079970e-01   \n",
       "max         2.097612e+01   1.685000e+01    2.197196e+01     1.053798e+01   \n",
       "\n",
       "         reversalsB    ctrl_timeB  \n",
       "count  2.869000e+03  2.869000e+03  \n",
       "mean  -9.906486e-18 -1.040181e-16  \n",
       "std    1.000174e+00  1.000174e+00  \n",
       "min   -3.168375e-01 -8.310995e-01  \n",
       "25%   -3.168375e-01 -5.913396e-01  \n",
       "50%   -3.168375e-01 -2.271943e-01  \n",
       "75%   -3.168375e-01  2.974650e-01  \n",
       "max    2.124448e+01  1.530904e+01  "
      ]
     },
     "execution_count": 4,
     "metadata": {},
     "output_type": "execute_result"
    }
   ],
   "source": [
    "# scaling the data\n",
    "\n",
    "from sklearn.preprocessing import StandardScaler\n",
    "\n",
    "to_scale = list(features.columns.copy())\n",
    "to_scale = to_scale[1:11] + to_scale[14:-3]\n",
    "\n",
    "features[to_scale] = StandardScaler().fit_transform(features[to_scale])\n",
    "features[to_scale].describe()"
   ]
  },
  {
   "cell_type": "code",
   "execution_count": 5,
   "metadata": {
    "colab": {
     "base_uri": "https://localhost:8080/"
    },
    "id": "0bolAS0ka2Dv",
    "outputId": "5b021d1e-9f8b-422b-f40d-3bf3ad4f0014"
   },
   "outputs": [
    {
     "data": {
      "text/plain": [
       "((2369, 27), (2369, 3), (500, 27), (500, 3))"
      ]
     },
     "execution_count": 5,
     "metadata": {},
     "output_type": "execute_result"
    }
   ],
   "source": [
    "Xtrain, Ytrain = features[500:], targets[500:]\n",
    "Xtest, Ytest   = features[:500], targets[:500]\n",
    "\n",
    "Xtrain.shape, Ytrain.shape, Xtest.shape, Ytest.shape"
   ]
  },
  {
   "cell_type": "code",
   "execution_count": 6,
   "metadata": {
    "id": "qYtIOkSt_66M"
   },
   "outputs": [],
   "source": [
    "class MMADataset(Dataset):\n",
    "    def __init__(self, features, targets):\n",
    "        assert len(features) == len(targets)\n",
    "        self.features = features\n",
    "        self.targets  = targets\n",
    "\n",
    "    def __len__(self):\n",
    "        return len(self.features)\n",
    "\n",
    "    def __getitem__(self, index):\n",
    "        return self.features[index], self.targets[index]\n",
    "\n",
    "class NN(nn.Module):\n",
    "    def __init__(self, input_size, hidden_size, output_size):\n",
    "        super(NN, self).__init__()\n",
    "        self.fc1 = nn.Linear(input_size, hidden_size)  # first linear layer\n",
    "        self.fc2 = nn.Linear(hidden_size, output_size) # second linear layer\n",
    "        self.relu = nn.ReLU()                         # activation function\n",
    "        self.softmax = nn.Softmax(dim=1)               # output activation function\n",
    "\n",
    "    def forward(self, x):\n",
    "        out = self.fc1(x)\n",
    "        out = self.relu(out)\n",
    "        out = self.fc2(out)\n",
    "        out = self.softmax(out)\n",
    "        return out\n",
    "\n",
    "def get_accuracy_dl(nn, dl):\n",
    "    correct = total = 0\n",
    "    for inputs, labels in dl:\n",
    "        outputs = nn(inputs)\n",
    "        _, predicted = torch.max(outputs.data, 1)\n",
    "        total += labels.size(0)\n",
    "        correct += (predicted == labels).sum().item()\n",
    "    return 100 * correct / total\n",
    "\n",
    "def train(nn, epochs, loss_func, optimizer, dataloader, test, print_interval=10):\n",
    "    losses = []       # loss\n",
    "    axs, axt = [], [] # accuracy\n",
    "\n",
    "    xtest, ytest = test # testing set\n",
    "\n",
    "    for epoch in range(epochs):\n",
    "\n",
    "        # iterating over one batch\n",
    "        for i, (inputs, labels) in enumerate(dataloader):\n",
    "            optimizer.zero_grad()\n",
    "\n",
    "            # forward\n",
    "            predictions = nn(inputs)\n",
    "            loss = loss_func(predictions, labels)\n",
    "\n",
    "            # backward\n",
    "            loss.backward()\n",
    "            optimizer.step()\n",
    "\n",
    "        with torch.no_grad(): axs_ = get_accuracy_dl(nn, dl)\n",
    "        axt_ = accuracy_score(ytest, nn(xtest).argmax(1)) * 100\n",
    "\n",
    "        losses.append(loss.item())\n",
    "\n",
    "        axs.append(axs_)\n",
    "        axt.append(axt_)\n",
    "\n",
    "        if (epoch+1) % print_interval == 0:\n",
    "            print(f'Epoch [{epoch+1}/{epochs}], Loss: {loss.item():.4f}, Training: {axs_:.2f}%, Testing: {axt_:.2f}%')\n",
    "\n",
    "    return losses, axs, axt\n",
    "\n",
    "xs = torch.tensor(Xtrain.to_numpy()).float()\n",
    "xt = torch.tensor(Xtest.to_numpy()).float()\n",
    "\n",
    "input_size = len(xs[0])"
   ]
  },
  {
   "cell_type": "markdown",
   "metadata": {
    "id": "tCxoj_jEZyWf"
   },
   "source": [
    "# Predicting the winner (A or B)"
   ]
  },
  {
   "cell_type": "code",
   "execution_count": 7,
   "metadata": {
    "id": "zSV5ktxdBSfp"
   },
   "outputs": [],
   "source": [
    "target = 'winner'\n",
    "\n",
    "output_size = 2\n",
    "\n",
    "ys = torch.tensor(Ytrain[target].to_numpy())\n",
    "yt = torch.tensor(Ytest[target].to_numpy())\n",
    "\n",
    "ds = MMADataset(xs, ys)\n",
    "dl = DataLoader(ds, batch_size=64, shuffle=False)"
   ]
  },
  {
   "cell_type": "code",
   "execution_count": 8,
   "metadata": {
    "colab": {
     "base_uri": "https://localhost:8080/"
    },
    "id": "cam4cJKXBpjH",
    "outputId": "f819592e-7d93-42b6-b7d0-79a14c7dbc02"
   },
   "outputs": [
    {
     "name": "stdout",
     "output_type": "stream",
     "text": [
      "Epoch [10/160], Loss: 0.6066, Training: 51.54%, Testing: 46.60%\n",
      "Epoch [20/160], Loss: 0.5960, Training: 53.69%, Testing: 50.60%\n",
      "Epoch [30/160], Loss: 0.5783, Training: 56.23%, Testing: 52.60%\n",
      "Epoch [40/160], Loss: 0.5581, Training: 56.65%, Testing: 51.60%\n",
      "Epoch [50/160], Loss: 0.5399, Training: 56.48%, Testing: 54.40%\n",
      "Epoch [60/160], Loss: 0.5227, Training: 56.56%, Testing: 54.40%\n",
      "Epoch [70/160], Loss: 0.5072, Training: 56.82%, Testing: 54.20%\n",
      "Epoch [80/160], Loss: 0.4940, Training: 56.99%, Testing: 54.00%\n",
      "Epoch [90/160], Loss: 0.4823, Training: 57.53%, Testing: 53.60%\n",
      "Epoch [100/160], Loss: 0.4719, Training: 58.04%, Testing: 53.60%\n",
      "Epoch [110/160], Loss: 0.4626, Training: 58.29%, Testing: 55.00%\n",
      "Epoch [120/160], Loss: 0.4545, Training: 58.59%, Testing: 55.20%\n",
      "Epoch [130/160], Loss: 0.4476, Training: 58.89%, Testing: 55.40%\n",
      "Epoch [140/160], Loss: 0.4413, Training: 59.14%, Testing: 55.80%\n",
      "Epoch [150/160], Loss: 0.4357, Training: 59.27%, Testing: 56.00%\n",
      "Epoch [160/160], Loss: 0.4306, Training: 59.35%, Testing: 56.60%\n"
     ]
    }
   ],
   "source": [
    "torch.manual_seed(random_state)\n",
    "\n",
    "nn_winner = NN(\n",
    "    input_size=input_size,\n",
    "    hidden_size=20,\n",
    "    output_size=output_size,\n",
    ")\n",
    "\n",
    "epochs    = 160\n",
    "lossfunc  = nn.CrossEntropyLoss()\n",
    "optimizer = optim.Adam(nn_winner.parameters(), lr=0.0001, weight_decay=0.001)\n",
    "\n",
    "loss, axs, axt = train(nn_winner, epochs, lossfunc, optimizer, dl, (xt, yt), print_interval=10)"
   ]
  },
  {
   "cell_type": "code",
   "execution_count": 9,
   "metadata": {
    "colab": {
     "base_uri": "https://localhost:8080/",
     "height": 466
    },
    "id": "9NJo_tLxJNc5",
    "outputId": "469da2f9-407c-4287-ac6c-75611e82dd1b"
   },
   "outputs": [
    {
     "data": {
      "text/plain": [
       "<matplotlib.legend.Legend at 0x748e3f7b3e80>"
      ]
     },
     "execution_count": 9,
     "metadata": {},
     "output_type": "execute_result"
    },
    {
     "data": {
      "image/png": "[encoded data removed]",
      "text/plain": [
       "<Figure size 640x480 with 1 Axes>"
      ]
     },
     "metadata": {},
     "output_type": "display_data"
    }
   ],
   "source": [
    "plt.plot(list(range(epochs)), axs, color='grey')\n",
    "plt.plot(list(range(epochs)), axt, color='black')\n",
    "plt.xlabel('epochs')\n",
    "plt.ylabel('accuracy')\n",
    "plt.legend(['Training', 'Testing'])"
   ]
  },
  {
   "cell_type": "code",
   "execution_count": 10,
   "metadata": {
    "colab": {
     "base_uri": "https://localhost:8080/",
     "height": 466
    },
    "id": "Fb8WK4KtF71D",
    "outputId": "68d07150-2900-4b7f-bb32-22ba1408b129"
   },
   "outputs": [
    {
     "data": {
      "text/plain": [
       "Text(0.5, 0, 'epochs')"
      ]
     },
     "execution_count": 10,
     "metadata": {},
     "output_type": "execute_result"
    },
    {
     "data": {
      "image/png": "[encoded data removed]",
      "text/plain": [
       "<Figure size 640x480 with 1 Axes>"
      ]
     },
     "metadata": {},
     "output_type": "display_data"
    }
   ],
   "source": [
    "plt.plot(list(range(epochs)), loss)\n",
    "plt.ylabel('loss')\n",
    "plt.xlabel('epochs')"
   ]
  },
  {
   "cell_type": "markdown",
   "metadata": {
    "id": "85y9T_Nzeomg"
   },
   "source": [
    "# Predicting the result (Dec, Sub or KO)"
   ]
  },
  {
   "cell_type": "code",
   "execution_count": 11,
   "metadata": {
    "colab": {
     "base_uri": "https://localhost:8080/"
    },
    "id": "TqsyU3_TcdIm",
    "outputId": "85581786-afbc-4773-f45e-d7c6883bd3c3"
   },
   "outputs": [
    {
     "name": "stdout",
     "output_type": "stream",
     "text": [
      "Epoch [1/7], Loss: 1.1818, Training: 33.01%, Testing: 36.80%\n",
      "Epoch [2/7], Loss: 1.1953, Training: 35.04%, Testing: 37.00%\n",
      "Epoch [3/7], Loss: 1.2083, Training: 36.98%, Testing: 39.60%\n",
      "Epoch [4/7], Loss: 1.2216, Training: 41.62%, Testing: 42.40%\n",
      "Epoch [5/7], Loss: 1.2361, Training: 46.14%, Testing: 42.40%\n",
      "Epoch [6/7], Loss: 1.2513, Training: 48.80%, Testing: 43.60%\n",
      "Epoch [7/7], Loss: 1.2685, Training: 49.60%, Testing: 44.00%\n"
     ]
    }
   ],
   "source": [
    "torch.manual_seed(random_state)\n",
    "\n",
    "nn_result = NN(\n",
    "    input_size=input_size,\n",
    "    hidden_size=32,\n",
    "    output_size=3,\n",
    ")\n",
    "\n",
    "yt = torch.tensor(Ytest['result'].to_numpy())\n",
    "ys = torch.tensor(Ytrain['result'].to_numpy())\n",
    "\n",
    "ds = MMADataset(xs, ys)\n",
    "dl = DataLoader(ds, batch_size=32, shuffle=False)\n",
    "\n",
    "epochs    = 7\n",
    "lossfunc  = nn.CrossEntropyLoss()\n",
    "optimizer = optim.Adam(nn_result.parameters(), lr=0.0001, weight_decay=0.001)\n",
    "\n",
    "loss, axs, axt = train(nn_result, epochs, lossfunc, optimizer, dl, (xt, yt), print_interval=1)"
   ]
  },
  {
   "cell_type": "code",
   "execution_count": 12,
   "metadata": {
    "colab": {
     "base_uri": "https://localhost:8080/",
     "height": 466
    },
    "id": "K1OqO3mIdOtz",
    "outputId": "49aa0a1e-8096-4194-bfec-638f4a8b6491"
   },
   "outputs": [
    {
     "data": {
      "text/plain": [
       "<matplotlib.legend.Legend at 0x748e2d30b670>"
      ]
     },
     "execution_count": 12,
     "metadata": {},
     "output_type": "execute_result"
    },
    {
     "data": {
      "image/png": "[encoded data removed]",
      "text/plain": [
       "<Figure size 640x480 with 1 Axes>"
      ]
     },
     "metadata": {},
     "output_type": "display_data"
    }
   ],
   "source": [
    "plt.plot(list(range(epochs)), axs, color='black')\n",
    "plt.plot(list(range(epochs)), axt, color='purple')\n",
    "plt.xlabel('epochs')\n",
    "plt.ylabel('accuracy')\n",
    "plt.legend(['Training', 'Testing'])"
   ]
  },
  {
   "cell_type": "markdown",
   "metadata": {
    "id": "0E6wUcs8eXw_"
   },
   "source": [
    "# Predicting the round (1, 2 or 3)"
   ]
  },
  {
   "cell_type": "code",
   "execution_count": 13,
   "metadata": {
    "colab": {
     "base_uri": "https://localhost:8080/"
    },
    "id": "2RR3Cu-gVihs",
    "outputId": "7dc26bf0-9f88-4879-e92c-39759c9d14f9"
   },
   "outputs": [
    {
     "name": "stdout",
     "output_type": "stream",
     "text": [
      "Epoch [1/2], Loss: 1.0692, Training: 46.69%, Testing: 42.60%\n",
      "Epoch [2/2], Loss: 1.0826, Training: 55.85%, Testing: 51.60%\n"
     ]
    }
   ],
   "source": [
    "torch.manual_seed(random_state)\n",
    "\n",
    "nn_round = NN(\n",
    "    input_size=input_size,\n",
    "    hidden_size=100,\n",
    "    output_size=3,\n",
    ")\n",
    "\n",
    "yt = torch.tensor(Ytest['finish_round'].to_numpy())\n",
    "ys = torch.tensor(Ytrain['finish_round'].to_numpy())\n",
    "\n",
    "ds = MMADataset(xs, ys)\n",
    "dl = DataLoader(ds, batch_size=64, shuffle=False)\n",
    "\n",
    "epochs = 2\n",
    "lossfunc = nn.CrossEntropyLoss()\n",
    "optimizer = optim.Adam(nn_round.parameters(), lr=0.0001, weight_decay=0.01)\n",
    "\n",
    "loss, axs, axt = train(nn_round, epochs, lossfunc, optimizer, dl, (xt, yt), print_interval=1)"
   ]
  },
  {
   "cell_type": "code",
   "execution_count": 14,
   "metadata": {
    "colab": {
     "base_uri": "https://localhost:8080/",
     "height": 449
    },
    "id": "I3dfyH_nWWWK",
    "outputId": "3be7c17a-62de-4b46-d0c1-6e8774299cae"
   },
   "outputs": [
    {
     "data": {
      "image/png": "[encoded data removed]",
      "text/plain": [
       "<Figure size 640x480 with 1 Axes>"
      ]
     },
     "metadata": {},
     "output_type": "display_data"
    }
   ],
   "source": [
    "plt.plot(list(range(epochs)), axs, color='black')\n",
    "plt.plot(list(range(epochs)), axt, color='purple')\n",
    "plt.xlabel('epochs')\n",
    "plt.ylabel('accuracy')\n",
    "plt.legend(['Training', 'Testing']); None"
   ]
  },
  {
   "cell_type": "markdown",
   "metadata": {
    "id": "Yu8BRSOXf6bw"
   },
   "source": [
    "# Eval"
   ]
  },
  {
   "cell_type": "code",
   "execution_count": 104,
   "metadata": {
    "id": "zuN_3RNXDy9S"
   },
   "outputs": [],
   "source": [
    "def brier_score(targets, probas):\n",
    "    result = 0.0\n",
    "    for row, y in zip(probas, targets):\n",
    "        result += sum([(p - (1 if i == y else 0))**2 for i, p in enumerate(row)])\n",
    "    return result / len(targets)"
   ]
  },
  {
   "cell_type": "code",
   "execution_count": 105,
   "metadata": {
    "colab": {
     "base_uri": "https://localhost:8080/"
    },
    "id": "P3Sl8ZPdd2nH",
    "outputId": "e312a98d-533d-4f77-96f4-df7f33f0623b"
   },
   "outputs": [
    {
     "name": "stdout",
     "output_type": "stream",
     "text": [
      "\n",
      "Accuracies:\n",
      "56.599999999999994\n",
      "44.0\n",
      "51.6\n",
      "\n",
      "F1:\n",
      "0.581888246628131\n",
      "0.30583925233644854\n",
      "0.3923538496071829\n",
      "\n",
      "Log-Losses:\n",
      "0.7213216667544406\n",
      "1.0570442203994757\n",
      "1.0751282772893835\n",
      "\n",
      "Brier-Scores:\n",
      "0.5136920764373212\n",
      "0.6413546113383304\n",
      "0.6477571362696665\n"
     ]
    }
   ],
   "source": [
    "probas_winner = nn_winner(xt).detach().numpy()\n",
    "preds_winner = probas_winner.argmax(1)\n",
    "\n",
    "probas_round  = nn_round(xt).detach().numpy()\n",
    "preds_round = probas_round.argmax(1)\n",
    "\n",
    "probas_result = nn_result(xt).detach().numpy()\n",
    "preds_result = probas_result.argmax(1)\n",
    "\n",
    "print('\\nAccuracies:')\n",
    "print(accuracy_score(Ytest['winner'], preds_winner)*100)\n",
    "print(accuracy_score(Ytest['result'], preds_result)*100)\n",
    "print(accuracy_score(Ytest['finish_round'], preds_round)*100)\n",
    "\n",
    "print('\\nF1:')\n",
    "print(f1_score(Ytest['winner'], preds_winner))\n",
    "print(f1_score(Ytest['result'], preds_result, average='weighted'))\n",
    "print(f1_score(Ytest['finish_round'], preds_round, average='weighted'))\n",
    "\n",
    "print('\\nLog-Losses:')\n",
    "\n",
    "print(log_loss(Ytest['winner'], probas_winner))\n",
    "print(log_loss(Ytest['result'], probas_result))\n",
    "print(log_loss(Ytest['finish_round'], probas_round))\n",
    "\n",
    "print('\\nBrier-Scores:')\n",
    "\n",
    "print(brier_score(Ytest['winner'], probas_winner))\n",
    "print(brier_score(Ytest['result'], probas_result))\n",
    "print(brier_score(Ytest['finish_round'], probas_round))"
   ]
  }
 ],
 "metadata": {
  "colab": {
   "provenance": []
  },
  "kernelspec": {
   "display_name": "Python 3 (ipykernel)",
   "language": "python",
   "name": "python3"
  },
  "language_info": {
   "codemirror_mode": {
    "name": "ipython",
    "version": 3
   },
   "file_extension": ".py",
   "mimetype": "text/x-python",
   "name": "python",
   "nbconvert_exporter": "python",
   "pygments_lexer": "ipython3",
   "version": "3.10.12"
  }
 },
 "nbformat": 4,
 "nbformat_minor": 4
}
